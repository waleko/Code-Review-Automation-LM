{
 "cells": [
  {
   "cell_type": "markdown",
   "source": [
    "# CodeReviewer Model Inference\n",
    "\n",
    "Let's generate code reviews using `microsoft/codereviewer` model {cite}`li2022codereviewer`"
   ],
   "metadata": {
    "collapsed": false
   },
   "id": "b65e7acd52a4668e"
  },
  {
   "cell_type": "code",
   "execution_count": null,
   "id": "initial_id",
   "metadata": {
    "collapsed": true
   },
   "outputs": [],
   "source": [
    "from pathlib import Path\n",
    "\n",
    "import numpy as np\n",
    "import pandas as pd\n",
    "import torch\n",
    "from torch.utils.data import Dataset, DataLoader\n",
    "from tqdm.autonotebook import tqdm\n",
    "from transformers import AutoTokenizer, AutoModelForSeq2SeqLM\n",
    "\n",
    "import utils"
   ]
  },
  {
   "cell_type": "markdown",
   "source": [
    "## 1 Load data  "
   ],
   "metadata": {
    "collapsed": false
   },
   "id": "4a4776ea7be212fc"
  },
  {
   "cell_type": "code",
   "execution_count": null,
   "outputs": [],
   "source": [
    "filename = \"../data/JetBrains_kotlin_100.csv\""
   ],
   "metadata": {
    "collapsed": false
   },
   "id": "cce0ce4281d436df"
  },
  {
   "cell_type": "code",
   "execution_count": null,
   "outputs": [],
   "source": [
    "df = pd.read_csv(filename)\n",
    "df.head()"
   ],
   "metadata": {
    "collapsed": false
   },
   "id": "593e84ddf70822c"
  },
  {
   "cell_type": "code",
   "execution_count": null,
   "outputs": [],
   "source": [
    "# download tokenizer from huggingface\n",
    "tokenizer = AutoTokenizer.from_pretrained(\"microsoft/codereviewer\")\n",
    "\n",
    "# add required special tokens to the tokenizer\n",
    "tokenizer = utils.process_tokenizer(tokenizer)"
   ],
   "metadata": {
    "collapsed": false
   },
   "id": "ad4d16d13804be69"
  },
  {
   "cell_type": "code",
   "execution_count": null,
   "outputs": [],
   "source": [
    "class ReviewsDataset(Dataset):\n",
    "    def __init__(self, df: pd.DataFrame, tokenizer):\n",
    "        self.y = df[\"human_review\"]\n",
    "        self.code = df[\"diff_hunk\"]\n",
    "        self.x = torch.tensor(df.apply(lambda row: utils.encode_diff(tokenizer, row[\"diff_hunk\"], row[\"msg\"], row[\"src_file\"]), axis=1), dtype=torch.long).cpu()\n",
    " \n",
    "    def __len__(self):\n",
    "        return len(self.y)\n",
    "   \n",
    "    def __getitem__(self,idx):\n",
    "        return self.x[idx], self.y[idx]\n"
   ],
   "metadata": {
    "collapsed": false
   },
   "id": "cb003d6d8f578da1"
  },
  {
   "cell_type": "code",
   "execution_count": null,
   "outputs": [],
   "source": [
    "dataset = ReviewsDataset(df, tokenizer)\n",
    "dataloader = DataLoader(dataset, batch_size=4)"
   ],
   "metadata": {
    "collapsed": false
   },
   "id": "e39dbbb045d46e1a"
  },
  {
   "cell_type": "code",
   "execution_count": null,
   "outputs": [],
   "source": [
    "def predict(model, dataloader, device='cuda'):\n",
    "    model = model.to(device)\n",
    "    model.eval()\n",
    "    \n",
    "    result = []\n",
    "    \n",
    "    for X, y in tqdm(dataloader):\n",
    "        inputs_mask = X.ne(tokenizer.pad_id)\n",
    "        preds = model.generate(\n",
    "            X.to(device),\n",
    "            attention_mask=inputs_mask.to(device),\n",
    "            use_cache=True,\n",
    "            num_beams=5,\n",
    "            early_stopping=True,\n",
    "            max_length=512,\n",
    "            num_return_sequences=1,\n",
    "        )\n",
    "        preds_np = preds.detach().cpu().numpy()\n",
    "        preds_decoded = np.apply_along_axis(lambda row: tokenizer.decode(\n",
    "            row[2:], skip_special_tokens=True, clean_up_tokenization_spaces=False\n",
    "        ), 1, preds_np)\n",
    "        result += list(preds_decoded)\n",
    "    return result"
   ],
   "metadata": {
    "collapsed": false
   },
   "id": "d06f51b2150c61c4"
  },
  {
   "cell_type": "markdown",
   "source": [
    "## 2 Predict"
   ],
   "metadata": {
    "collapsed": false
   },
   "id": "1381eaca0f99dfc"
  },
  {
   "cell_type": "markdown",
   "source": [
    "### HuggingFace pre-trained checkpoint"
   ],
   "metadata": {
    "collapsed": false
   },
   "id": "d84900c15fa4ffc3"
  },
  {
   "cell_type": "code",
   "execution_count": null,
   "outputs": [],
   "source": [
    "# download the pretrained model from huggingface\n",
    "hf_model = AutoModelForSeq2SeqLM.from_pretrained(\"microsoft/codereviewer\")"
   ],
   "metadata": {
    "collapsed": false
   },
   "id": "c508661efcdcad40"
  },
  {
   "cell_type": "code",
   "execution_count": null,
   "outputs": [],
   "source": [
    "preds = predict(hf_model, dataloader)"
   ],
   "metadata": {
    "collapsed": false
   },
   "id": "34cc9076a5720e17"
  },
  {
   "cell_type": "code",
   "execution_count": null,
   "outputs": [],
   "source": [
    "df_pred = pd.DataFrame({'code': dataset.code, 'target': dataset.y, 'prediction': preds})"
   ],
   "metadata": {
    "collapsed": false
   },
   "id": "4c8e9b7782d9e4ff"
  },
  {
   "cell_type": "code",
   "execution_count": null,
   "outputs": [],
   "source": [
    "df_pred.head()"
   ],
   "metadata": {
    "collapsed": false
   },
   "id": "30f151dcec1d5c33"
  },
  {
   "cell_type": "code",
   "execution_count": null,
   "outputs": [],
   "source": [
    "df_pred.to_csv(Path(filename).with_suffix('.hf_pred.csv'))"
   ],
   "metadata": {
    "collapsed": false
   },
   "id": "a72786a5b8953655"
  },
  {
   "cell_type": "markdown",
   "source": [
    "### Fine-tuned CodeReviewer"
   ],
   "metadata": {
    "collapsed": false
   },
   "id": "e8e932357e193796"
  }
 ],
 "metadata": {
  "kernelspec": {
   "display_name": "Python 3",
   "language": "python",
   "name": "python3"
  },
  "language_info": {
   "codemirror_mode": {
    "name": "ipython",
    "version": 2
   },
   "file_extension": ".py",
   "mimetype": "text/x-python",
   "name": "python",
   "nbconvert_exporter": "python",
   "pygments_lexer": "ipython2",
   "version": "2.7.6"
  }
 },
 "nbformat": 4,
 "nbformat_minor": 5
}
