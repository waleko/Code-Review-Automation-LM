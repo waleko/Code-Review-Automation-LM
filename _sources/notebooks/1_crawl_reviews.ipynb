{
 "cells": [
  {
   "cell_type": "markdown",
   "source": [
    "# Collecting Code Review Data"
   ],
   "metadata": {
    "collapsed": false
   },
   "id": "5ef1eea9072c468d"
  },
  {
   "cell_type": "code",
   "execution_count": null,
   "id": "initial_id",
   "metadata": {
    "collapsed": true
   },
   "outputs": [],
   "source": [
    "from getpass import getpass\n",
    "\n",
    "from github import Auth, Github \n",
    "import pandas as pd\n",
    "from tqdm.autonotebook import tqdm"
   ]
  },
  {
   "cell_type": "markdown",
   "source": [],
   "metadata": {
    "collapsed": false
   },
   "id": "72f54dfff3ab324a"
  },
  {
   "cell_type": "code",
   "execution_count": null,
   "outputs": [],
   "source": [
    "token = getpass(\"Enter your Github Access Token: \")\n",
    "if token:\n",
    "    # using token\n",
    "    g = Github(auth=Auth.Token(token))\n",
    "else:\n",
    "    # no token\n",
    "    # warn: possibly rate limited\n",
    "    g = Github()"
   ],
   "metadata": {
    "collapsed": false
   },
   "id": "87d1643cf1710bab"
  },
  {
   "cell_type": "markdown",
   "source": [],
   "metadata": {
    "collapsed": false
   },
   "id": "9a59e87456812d86"
  },
  {
   "cell_type": "code",
   "execution_count": null,
   "outputs": [],
   "source": [
    "repo_name = \"openwisp/openwisp-controller\" # repo to use\n",
    "num_comments = 1000 # number of comments to load"
   ],
   "metadata": {
    "collapsed": false
   },
   "id": "f681a655364a591b"
  },
  {
   "cell_type": "code",
   "execution_count": null,
   "outputs": [],
   "source": [
    "repo = g.get_repo(repo_name)\n",
    "data = []\n",
    "comment_pages = repo.get_pulls_review_comments()\n",
    "for comment in tqdm(comment_pages[:num_comments], total=num_comments):\n",
    "    data.append({'msg': repo.get_git_commit(comment.commit_id).message, 'diff_hunk': comment.diff_hunk, 'src_file': comment.path, 'human_review': comment.body})\n",
    "df = pd.DataFrame(data)"
   ],
   "metadata": {
    "collapsed": false
   },
   "id": "c7047eca24770e5b"
  },
  {
   "cell_type": "code",
   "execution_count": null,
   "outputs": [],
   "source": [
    "df.head()"
   ],
   "metadata": {
    "collapsed": false
   },
   "id": "a936edb21b606c75"
  },
  {
   "cell_type": "code",
   "execution_count": null,
   "outputs": [],
   "source": [
    "df.to_csv(f'../data/{repo_name.replace(\"/\", \"_\")}_{num_comments}.csv')"
   ],
   "metadata": {
    "collapsed": false
   },
   "id": "bd29d8735688babc"
  }
 ],
 "metadata": {
  "kernelspec": {
   "display_name": "Python 3",
   "language": "python",
   "name": "python3"
  },
  "language_info": {
   "codemirror_mode": {
    "name": "ipython",
    "version": 2
   },
   "file_extension": ".py",
   "mimetype": "text/x-python",
   "name": "python",
   "nbconvert_exporter": "python",
   "pygments_lexer": "ipython2",
   "version": "2.7.6"
  }
 },
 "nbformat": 4,
 "nbformat_minor": 5
}
