{
 "cells": [
  {
   "cell_type": "markdown",
   "source": [
    "# Collecting Code Review Data\n",
    "\n",
    "In this notebook, we will collect code review data from Github. We will use the [PyGithub](https://github.com/PyGithub/PyGithub) library to interact with the Github API."
   ],
   "metadata": {
    "collapsed": false
   },
   "id": "5ef1eea9072c468d"
  },
  {
   "cell_type": "code",
   "execution_count": 1,
   "id": "initial_id",
   "metadata": {
    "collapsed": true,
    "ExecuteTime": {
     "end_time": "2023-09-13T21:16:51.561272700Z",
     "start_time": "2023-09-13T21:16:50.880313100Z"
    }
   },
   "outputs": [
    {
     "name": "stderr",
     "output_type": "stream",
     "text": [
      "C:\\Users\\akovr\\AppData\\Local\\Temp\\ipykernel_17448\\323726258.py:5: TqdmExperimentalWarning: Using `tqdm.autonotebook.tqdm` in notebook mode. Use `tqdm.tqdm` instead to force console mode (e.g. in jupyter console)\n",
      "  from tqdm.autonotebook import tqdm\n"
     ]
    }
   ],
   "source": [
    "from getpass import getpass\n",
    "\n",
    "from github import Auth, Github\n",
    "import pandas as pd\n",
    "from tqdm.autonotebook import tqdm"
   ]
  },
  {
   "cell_type": "markdown",
   "source": [
    "Although, we can use the Github API without authentication, we will need to authenticate to increase the rate limit. We can authenticate using a [Github Access Token](https://docs.github.com/en/github/authenticating-to-github/creating-a-personal-access-token). You can then enter the token below. If you do not enter a token, the code will run without authentication, but you will be rate limited to 60 requests per hour. "
   ],
   "metadata": {
    "collapsed": false
   },
   "id": "72f54dfff3ab324a"
  },
  {
   "cell_type": "code",
   "execution_count": 2,
   "outputs": [],
   "source": [
    "token = getpass(\"Enter your Github Access Token: \")\n",
    "if token:\n",
    "    # using token\n",
    "    g = Github(auth=Auth.Token(token))\n",
    "else:\n",
    "    # no token\n",
    "    # warn: possibly rate limited\n",
    "    g = Github()"
   ],
   "metadata": {
    "collapsed": false,
    "ExecuteTime": {
     "end_time": "2023-09-13T21:16:58.651064100Z",
     "start_time": "2023-09-13T21:16:51.561272700Z"
    }
   },
   "id": "87d1643cf1710bab"
  },
  {
   "cell_type": "markdown",
   "source": [
    "Next, we will define a function to collect code review data from a Github repository."
   ],
   "metadata": {
    "collapsed": false
   },
   "id": "9a59e87456812d86"
  },
  {
   "cell_type": "code",
   "execution_count": 3,
   "outputs": [],
   "source": [
    "def collect_reviews(repo_name: str, num_comments: int = 1000, skip_author=True, allow_threads=False, save=True):\n",
    "    \"\"\"\n",
    "    Crawl a repo for code review data\n",
    "    :param repo_name: Repo name in format \"owner/repo\"\n",
    "    :param num_comments: Number of comments to load\n",
    "    :param skip_author: Skip comments made by the author of the pull request\n",
    "    :param allow_threads: Allow comments that are replies to other comments\n",
    "    :param save: Save the data to a csv file\n",
    "    :return: Returns a pandas dataframe with columns diff_hunk, human_review, created_at\n",
    "    \"\"\"\n",
    "    data = []\n",
    "    # diff hunk for counting\n",
    "    hunks = set()\n",
    "    # load repo\n",
    "    repo = g.get_repo(repo_name)\n",
    "    # load comments\n",
    "    comment_pages = repo.get_pulls_review_comments()\n",
    "    # iterate over comments\n",
    "    progress_bar = tqdm(total=num_comments)\n",
    "    for comment in comment_pages:\n",
    "        if len(hunks) >= num_comments:\n",
    "            # if we have enough comments, stop\n",
    "            break\n",
    "        if comment.diff_hunk in hunks:\n",
    "            # if we already have this diff hunk, skip\n",
    "            continue\n",
    "        # get commit author\n",
    "        commit_author = repo.get_git_commit(comment.commit_id).author\n",
    "        if skip_author and comment.user == commit_author:\n",
    "            # if the comment is made by the author of the pull request, skip\n",
    "            continue\n",
    "        # add comment to data, along with diff hunk, created_at and ground truth review\n",
    "        data.append({'diff_hunk': comment.diff_hunk, 'human_review': comment.body, 'created_at': comment.created_at})\n",
    "        # add diff hunk to set for counting\n",
    "        progress_bar.update(1)\n",
    "        hunks.add(comment.diff_hunk)\n",
    "    df = pd.DataFrame(data)\n",
    "    if not allow_threads:\n",
    "        # remove comments that are replies to other comments, keeping the first comment\n",
    "        df = df.loc[df.groupby('diff_hunk').created_at.idxmin()]\n",
    "    if save:\n",
    "        df.to_csv(f'../data/{repo_name.replace(\"/\", \"_\")}_{len(df)}.csv')\n",
    "    return df"
   ],
   "metadata": {
    "collapsed": false,
    "ExecuteTime": {
     "end_time": "2023-09-13T21:16:58.680037100Z",
     "start_time": "2023-09-13T21:16:58.601487200Z"
    }
   },
   "id": "b7df1e499a6c792b"
  },
  {
   "cell_type": "markdown",
   "source": [
    "Finally, we will collect code review data from the following repositories:\n",
    "- [microsoft/vscode](https://github.com/microsoft/vscode)\n",
    "- [JetBrains/kotlin](https://github.com/JetBrains/kotlin)\n",
    "- [transloadit/uppy](https://github.com/transloadit/uppy)\n",
    "\n",
    "I have chosen these repositories because they are popular, and they have a large number of pull requests with code review comments. The authors of {cite}`li2022codereviewer` have also used similar criteria to select repositories for their study.\n",
    "\n",
    "The data will be saved to the `data` folder."
   ],
   "metadata": {
    "collapsed": false
   },
   "id": "7c68b31943a86a32"
  },
  {
   "cell_type": "code",
   "execution_count": 8,
   "outputs": [],
   "source": [
    "repos = ['microsoft/vscode', 'JetBrains/kotlin', 'transloadit/uppy']"
   ],
   "metadata": {
    "collapsed": false,
    "ExecuteTime": {
     "end_time": "2023-09-13T21:24:48.605227900Z",
     "start_time": "2023-09-13T21:24:48.598220Z"
    }
   },
   "id": "dc6a0070723b6860"
  },
  {
   "cell_type": "code",
   "execution_count": 9,
   "outputs": [
    {
     "data": {
      "text/plain": "  0%|          | 0/1000 [00:00<?, ?it/s]",
      "application/vnd.jupyter.widget-view+json": {
       "version_major": 2,
       "version_minor": 0,
       "model_id": "4bb2fb987b8a43d48973352d650e480c"
      }
     },
     "metadata": {},
     "output_type": "display_data"
    }
   ],
   "source": [
    "for repo in repos:\n",
    "    collect_reviews(repo)"
   ],
   "metadata": {
    "collapsed": false,
    "ExecuteTime": {
     "end_time": "2023-09-13T21:31:19.509213Z",
     "start_time": "2023-09-13T21:24:50.263903100Z"
    }
   },
   "id": "869d9413b6ad101"
  }
 ],
 "metadata": {
  "kernelspec": {
   "display_name": "Python 3",
   "language": "python",
   "name": "python3"
  },
  "language_info": {
   "codemirror_mode": {
    "name": "ipython",
    "version": 2
   },
   "file_extension": ".py",
   "mimetype": "text/x-python",
   "name": "python",
   "nbconvert_exporter": "python",
   "pygments_lexer": "ipython2",
   "version": "2.7.6"
  }
 },
 "nbformat": 4,
 "nbformat_minor": 5
}
