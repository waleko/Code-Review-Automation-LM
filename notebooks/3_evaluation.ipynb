{
 "cells": [
  {
   "cell_type": "markdown",
   "source": [
    "# Predictions Evaluation"
   ],
   "metadata": {
    "collapsed": false
   },
   "id": "bc60e7255799cccf"
  },
  {
   "cell_type": "code",
   "execution_count": null,
   "id": "initial_id",
   "metadata": {
    "collapsed": true
   },
   "outputs": [],
   "source": [
    "import numpy as np\n",
    "import pandas as pd\n",
    "from sacrebleu import BLEU"
   ]
  },
  {
   "cell_type": "code",
   "execution_count": null,
   "outputs": [],
   "source": [
    "bleu = BLEU(max_ngram_order=4)\n",
    "\n",
    "def calc_bleu_score(df: pd.DataFrame):\n",
    "    \"\"\"\n",
    "    Calculate BLEU score for a dataframe with code reviews predictions\n",
    "    :param df: Dataframe with columns 'target' and 'prediction'\n",
    "    :return: Returns BLEU score\n",
    "    \"\"\"\n",
    "    df2 = df.replace(np.nan, '', regex=True)\n",
    "    refs = [list(df2['target'])]\n",
    "    preds = list(df2['prediction'])\n",
    "    return bleu.corpus_score(preds, refs)"
   ],
   "metadata": {
    "collapsed": false
   },
   "id": "1f5e6defa2df6726"
  },
  {
   "cell_type": "code",
   "execution_count": null,
   "outputs": [],
   "source": [
    "filename = '../data/JetBrains_kotlin_100.hf_pred.csv'"
   ],
   "metadata": {
    "collapsed": false
   },
   "id": "39d2d8207f57e057"
  },
  {
   "cell_type": "code",
   "execution_count": null,
   "outputs": [],
   "source": [
    "df = pd.read_csv(filename)\n",
    "df.head()"
   ],
   "metadata": {
    "collapsed": false
   },
   "id": "6c00d6b14690dcaf"
  },
  {
   "cell_type": "code",
   "execution_count": null,
   "outputs": [],
   "source": [
    "calc_bleu_score(df)"
   ],
   "metadata": {
    "collapsed": false
   },
   "id": "2aeecf552b6e8f76"
  }
 ],
 "metadata": {
  "kernelspec": {
   "display_name": "Python 3",
   "language": "python",
   "name": "python3"
  },
  "language_info": {
   "codemirror_mode": {
    "name": "ipython",
    "version": 2
   },
   "file_extension": ".py",
   "mimetype": "text/x-python",
   "name": "python",
   "nbconvert_exporter": "python",
   "pygments_lexer": "ipython2",
   "version": "2.7.6"
  }
 },
 "nbformat": 4,
 "nbformat_minor": 5
}
