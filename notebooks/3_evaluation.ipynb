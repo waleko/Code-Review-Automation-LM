{
 "cells": [
  {
   "cell_type": "markdown",
   "id": "bc60e7255799cccf",
   "metadata": {
    "collapsed": false
   },
   "source": [
    "# Predictions Evaluation"
   ]
  },
  {
   "cell_type": "code",
   "execution_count": 1,
   "id": "initial_id",
   "metadata": {
    "collapsed": true
   },
   "outputs": [
    {
     "name": "stderr",
     "output_type": "stream",
     "text": [
      "/opt/conda/lib/python3.8/site-packages/tqdm/auto.py:22: TqdmWarning: IProgress not found. Please update jupyter and ipywidgets. See https://ipywidgets.readthedocs.io/en/stable/user_install.html\n",
      "  from .autonotebook import tqdm as notebook_tqdm\n"
     ]
    }
   ],
   "source": [
    "from pathlib import Path\n",
    "import numpy as np\n",
    "import pandas as pd\n",
    "\n",
    "from utils.smooth_bleu import bleu_fromstr"
   ]
  },
  {
   "cell_type": "code",
   "execution_count": 2,
   "id": "76e1f5dc15fd5625",
   "metadata": {
    "collapsed": false
   },
   "outputs": [],
   "source": [
    "def analyze_preds(base_file, sample_size=5):\n",
    "    # read files\n",
    "    hf_preds_file = Path(base_file).with_suffix('.hf_pred.csv')\n",
    "    fine_tuned_file = Path(base_file).with_suffix('.finetuned_pred.csv')\n",
    "    hf_preds = pd.read_csv(hf_preds_file)\n",
    "    fine_tuned = pd.read_csv(fine_tuned_file)\n",
    "    # put in df\n",
    "    df = pd.DataFrame({'code': fine_tuned['code'], 'hf_pred': hf_preds['prediction'], 'fine_tuned_pred': fine_tuned['prediction']})\n",
    "    df.replace(np.nan, '', regex=True)\n",
    "    # print sample with predictions\n",
    "    sample = df.sample(sample_size)\n",
    "    for code, hf_pred, fine_tuned_pred in sample.to_numpy():\n",
    "        print('-------------------')\n",
    "        print(code)\n",
    "        print(f'HF Pred: {hf_pred}')\n",
    "        print(f'Fine Tuned Pred: {fine_tuned_pred}')\n",
    "    return df"
   ]
  },
  {
   "cell_type": "code",
   "execution_count": 3,
   "id": "1f5e6defa2df6726",
   "metadata": {
    "collapsed": false
   },
   "outputs": [],
   "source": [
    "def calc_bleu(df):\n",
    "    refs = list(df['target'])\n",
    "    preds = list(df['prediction'])\n",
    "    for i in range(len(preds)):\n",
    "        chars = \"(_)`.\"\n",
    "        for c in chars:\n",
    "            preds[i] = preds[i].replace(c, \" \" + c + \" \")\n",
    "            preds[i] = \" \".join(preds[i].split())\n",
    "            refs[i] = refs[i].replace(c, \" \" + c + \" \")\n",
    "            refs[i] = \" \".join(refs[i].split())\n",
    "    return bleu_fromstr(preds, refs, rmstop=False)\n",
    "\n",
    "def calc_bleu_score(base_file):\n",
    "    hf_preds_file = Path(base_file).with_suffix('.hf_pred.csv')\n",
    "    fine_tuned_file = Path(base_file).with_suffix('.finetuned_pred.csv')\n",
    "    hf_preds = pd.read_csv(hf_preds_file)\n",
    "    ft_preds = pd.read_csv(fine_tuned_file)\n",
    "    hf_preds.replace(np.nan, '', regex=True, inplace=True)\n",
    "    ft_preds.replace(np.nan, '', regex=True, inplace=True)\n",
    "    hf_bleu = calc_bleu(hf_preds)\n",
    "    ft_bleu = calc_bleu(ft_preds)\n",
    "    print(f'HF BLEU: {hf_bleu}')\n",
    "    print(f'Fine Tuned BLEU: {ft_bleu}')\n",
    "    return hf_bleu, ft_bleu"
   ]
  },
  {
   "cell_type": "markdown",
   "id": "3698532ffeff76b4",
   "metadata": {
    "collapsed": false
   },
   "source": [
    "## Qualitative Evaluation\n",
    "We will now compare the predictions of the HF model and the fine-tuned model on samples of the four datasets.\n",
    "\n",
    "We will print the code, the prediction of the HF model and the prediction of the fine-tuned model."
   ]
  },
  {
   "cell_type": "code",
   "execution_count": 4,
   "id": "642eedcac45ee834",
   "metadata": {
    "collapsed": false
   },
   "outputs": [],
   "source": [
    "df = {}"
   ]
  },
  {
   "cell_type": "code",
   "execution_count": 5,
   "id": "30dc56606146a2d6",
   "metadata": {
    "collapsed": false
   },
   "outputs": [
    {
     "name": "stdout",
     "output_type": "stream",
     "text": [
      "-------------------\n",
      "@@ -20,10 +20,6 @@ from pylint import checkers, interfaces\n",
      " from pylint.checkers import utils\n",
      "\n",
      "\n",
      "-def _is_constant_empty_str(node):\n",
      "-    return isinstance(node, nodes.Const) and node.value == \"\"\n",
      "-\n",
      "-\n",
      " class CompareToEmptyStringChecker(checkers.BaseChecker):\n",
      "     \"\"\"Checks for comparisons to empty string.\n",
      "     Most of the times you should use the fact that empty strings are false.\n",
      "HF Pred: Why is this removed?\n",
      "Fine Tuned Pred: Removing this helper function because it isn't used anywhere else and `_is_constant_empty_str` is used in other places.\n",
      "-------------------\n",
      "@@ -14,7 +14,7 @@ import net.sourceforge.pmd.RuleViolation;\n",
      " /**\n",
      "  * A {@link RuleViolation} implementation that is immutable, and therefore cache friendly\n",
      "  */\n",
      "-public final class CachedRuleViolation implements RuleViolation {\n",
      "+public class CachedRuleViolation implements RuleViolation {\n",
      "\n",
      "     private final CachedRuleMapper mapper;\n",
      " \n",
      "HF Pred: Why did you remove `final`\n",
      "Fine Tuned Pred: Why did you remove the final modif\n",
      "-------------------\n",
      "@@ -225,6 +225,18 @@ class BokehPlot(DimensionedPlot):\n",
      "                     source.data.update(converted_data)\n",
      "                 else:\n",
      "                     source.stream(data, stream.length)\n",
      "+            return\n",
      "+\n",
      "+        # Determine if the CDS.data requires a full update or simply needs\n",
      "+        # to be updated, this is done by determining whether newly added\n",
      "+        # or not updated columns have the same length\n",
      "+        new_length = [len(v) for v in data.values() if isinstance(v, (list, np.ndarray))]\n",
      "+        length = [len(v) for v in source.data.values() if isinstance(v, (list, np.ndarray))]\n",
      "+        not_updated = [k for k in source.data if k not in data]\n",
      "+        new = [k for k in data if k not in source.data]\n",
      "+        if ((not_updated and new_length and any(len(source.data[n]) != new_length[0] for n in not_updated))\n",
      "+            or (new and length and any(len(data[n]) != length[0] for n in new))):\n",
      "+            source.data = data\n",
      "         else:\n",
      "             source.data.update(data)\n",
      " \n",
      "HF Pred: I don't think this is the right way to do this. If the length o\n",
      "Fine Tuned Pred: @Eric89GXL @mluessi do we need to check \n",
      "-------------------\n",
      "@@ -128,7 +128,7 @@ public class RestRequest {\n",
      " \t *\n",
      " \t * @param method\t\t\t\tthe HTTP method for the request (GET/POST/DELETE etc)\n",
      " \t * @param path\t\t\t\t\tthe URI path, this will automatically be resolved against the users current instance host.\n",
      "-\t * @param httpEntity\t\t\tthe request body if there is one, can be null.\n",
      "+\t * @param requestEntity\t\t\tthe request body if there is one, can be null.\n",
      " \t */\n",
      " \tpublic RestRequest(RestMethod method, String path, HttpEntity requestEntity) {\n",
      " \t\tthis(method, path, requestEntity, null);\n",
      "HF Pred: Why did you change this?\n",
      "Fine Tuned Pred: This change should be\n",
      "-------------------\n",
      "@@ -37,6 +37,12 @@ module Selenium\n",
      "         def bridge_class\n",
      "           Bridge\n",
      "         end\n",
      "+\n",
      "+        def print_page(**options)\n",
      "+          options[:page_ranges] &&= Array(options[:page_ranges])\n",
      "+\n",
      "+          bridge.print_page(options)\n",
      "+        end\n",
      "       end # Driver\n",
      "     end # Firefox\n",
      "   end # WebDriver\n",
      "HF Pred: Extra empty line de\n",
      "Fine Tuned Pred: Use 2 (not 0) spaces for indenting an expre\n"
     ]
    }
   ],
   "source": [
    "df['msg'] = analyze_preds('../data/msg-test')"
   ]
  },
  {
   "cell_type": "code",
   "execution_count": 6,
   "id": "19fbf302695a4c36",
   "metadata": {
    "collapsed": false
   },
   "outputs": [
    {
     "name": "stdout",
     "output_type": "stream",
     "text": [
      "-------------------\n",
      "@@ -1127,4 +1134,12 @@ registry.add('eslint-stylish', {\n",
      " \tapplyTo: ApplyToKind.allDocuments,\n",
      " \tfileLocation: FileLocationKind.Absolute,\n",
      " \tpattern: defaultPattern('eslint-stylish')\n",
      "-});\n",
      "\\ No newline at end of file\n",
      "+});\n",
      "+\n",
      "+registry.add('go', {\n",
      "+\towner: 'typescript',\n",
      "+\tapplyTo: ApplyToKind.allDocuments,\n",
      "+\tfileLocation: FileLocationKind.Relative,\n",
      "+\tfilePrefix: '${cwd}',\n",
      "HF Pred: Why is this needed?\n",
      "Fine Tuned Pred: I am not sure if this is a good idea. It makes me wonder if we shoul\n",
      "-------------------\n",
      "@@ -0,0 +1,46 @@\n",
      "+<?xml version=\"1.0\" encoding=\"UTF-8\"?>\n",
      "+<component type=\"desktop\">\n",
      "+\t<id>@@NAME@@.desktop</id>\n",
      "+\t<metadata_license>CC-BY-SA-3.0</metadata_license>\n",
      "+\t<project_license>MIT</project_license>\n",
      "+\t<name>@@NAME_LONG@@</name>\n",
      "+\t<url type=\"homepage\">https://code.visualstudio.com</url>\n",
      "+\t<summary>Code editor for developers supporting integration with existing tools</summary>\n",
      "+\t<description>\n",
      "+\t\t<p>\n",
      "+\t\t\tVisual Studio Code is a lightweight but powerful source code editor which\n",
      "HF Pred: I think this should be `@@NA\n",
      "Fine Tuned Pred: We don't need this file, it's only \n",
      "-------------------\n",
      "@@ -171,7 +171,7 @@ export function distinct<T>(array: T[], keyFn?: (t: T) => string): T[] {\n",
      " }\n",
      " \n",
      " export function first<T>(array: T[], fn: (item: T) => boolean, notFoundValue: T = null): T {\n",
      "-\tfor (let i = 0; i < array.length; i++) {\n",
      "+\tfor (let i = 0, I = array.length; i < I; i++) {\n",
      " \t\tconst element = array[i];\n",
      "HF Pred: I think this should be `array.length - 1`\n",
      "Fine Tuned Pred: Wouldn't it be clearer to name this `array`?\n",
      "-------------------\n",
      "@@ -18,7 +18,6 @@ import { IWorkspaceContextService } from 'vs/platform/workspace/common/workspace\n",
      " import { IWorkbenchContribution, IWorkbenchContributionsRegistry, Extensions as WorkbenchExtensions } from 'vs/workbench/common/contributions';\n",
      "HF Pred: import { IWorkbenchContrib\n",
      "Fine Tuned Pred: Are these imports used somewhere?\n",
      "-------------------\n",
      "@@ -74,6 +74,7 @@ export interface INextEditorGroupsAccessor {\n",
      " \tgetGroup(identifier: GroupIdentifier): INextEditorGroupView;\n",
      " \n",
      " \taddGroup(location: INextEditorGroupView | GroupIdentifier, direction: GroupDirection, options?: IAddGroupOptions): INextEditorGroup;\n",
      "+  removeGroup(): void;\n",
      "HF Pred: removeGroup(identifier: GroupIdentifier);\n",
      "Fine Tuned Pred: isn't this a breaking change?\n"
     ]
    }
   ],
   "source": [
    "df['vscode'] = analyze_preds('../data/microsoft_vscode_1000.csv')"
   ]
  },
  {
   "cell_type": "code",
   "execution_count": 7,
   "id": "d6f7b55edbe73e06",
   "metadata": {
    "collapsed": false
   },
   "outputs": [
    {
     "name": "stdout",
     "output_type": "stream",
     "text": [
      "-------------------\n",
      "@@ -178,7 +181,7 @@ abstract class AbstractDebugTest : CodegenTestCase() {\n",
      "         var inBoxMethod = false\n",
      "         vmLoop@\n",
      "         while (true) {\n",
      "-            val eventSet = virtualMachine.eventQueue().remove(1000)\n",
      "+            val eventSet = virtualMachine.eventQueue().remove(1000) ?: continue\n",
      "HF Pred: Why is this change needed?\n",
      "Fine Tuned Pred: This is the fix for the bug described in th\n",
      "-------------------\n",
      "@@ -3,8 +3,8 @@ package kara.internal\n",
      " /* Test <TYPO descr=\"Typo: In word 'somthing'\">somthing</TYPO> */\n",
      " class <TYPO descr=\"Typo: In word 'Moree'\">Moree</TYPO>Fun {\n",
      "   fun <TYPO descr=\"Typo: In word 'wrte'\">wrte</TYPO>() {\n",
      "-    val <TYPO descr=\"Typo: In word 'childen'\">childen</TYPO> = 12\n",
      "-    val <warning descr=\"[UNUSED_VARIABLE] Variable 'come' is never used\">come</warning> = childen\n",
      "+    val <TYPO descr=\"Typo: In word 'children'\">children</TYPO> = 12\n",
      "HF Pred: Why did you remove this\n",
      "Fine Tuned Pred: I think this should be a warning instead of a warning.\n",
      "-------------------\n",
      "@@ -0,0 +1,16 @@\n",
      "+// IGNORE_BACKEND: JVM\n",
      "+// KOTLIN_CONFIGURATION_FLAGS: ASSERTIONS_MODE=jvm\n",
      "+\n",
      "+class Outer {\n",
      "+    class Inner {\n",
      "+        fun f() { assert(true) }\n",
      "+    }\n",
      "+}\n",
      "+\n",
      "+// We set the assertion status based on top-level classes.\n",
      "+// 0 LDC LOuter\\$Inner;.class\n",
      "+// Outer\\$Inner.<clinit>:\n",
      "+// 1 LDC LOuter;.class\\s*INVOKEVIRTUAL java/lang/Class.desiredAssertionStatus \\(\\)Z\n",
      "+// 1 PUTSTATIC Outer\\$Inner.\\$assertionsDisabled : Z\n",
      "+// Outer\\$Inner.f:\n",
      "+// 1 GETSTATIC Outer\\$Inner.\\$assertionsDisabled\n",
      "HF Pred: I don't think this is the right place to put this code\n",
      "Fine Tuned Pred: Is there a reason why this doesn't go in `src/\n",
      "-------------------\n",
      "@@ -247,7 +245,7 @@ internal abstract class IndicesHandler(protected val context: CommonBackendConte\n",
      " \n",
      " internal class ArrayIndicesHandler(context: CommonBackendContext) : IndicesHandler(context) {\n",
      "HF Pred: }\n",
      "Fine Tuned Pred: Should be `ArrayBackend` instead of `CommonBackendContext`.\n",
      "-------------------\n",
      "@@ -0,0 +1,17 @@\n",
      "+// !DIAGNOSTICS: -UNUSED_PARAMETER\n",
      "+class C {\n",
      "+    <!OVERLOADS_PRIVATE!>[kotlin.jvm.overloads] private fun foo(s: String = \"OK\")<!> {\n",
      "+    }\n",
      "+}\n",
      "+\n",
      "+fun foo() {\n",
      "+    class D {\n",
      "+        <!OVERLOADS_PRIVATE!>[kotlin.jvm.overloads] fun foo(s: String = \"OK\")<!> {\n",
      "+        }\n",
      "+    }\n",
      "+\n",
      "+    val <!UNUSED_VARIABLE!>x<!> = object {\n",
      "+        <!OVERLOADS_PRIVATE!>[kotlin.jvm.overloads] fun foo(s: String = \"OK\")<!> {\n",
      "+    }\n",
      "+    }\n",
      "+}\n",
      "HF Pred: I think we can remove `<!UNUSED_VARIABLE!>` here.\n",
      "Fine Tuned Pred: Shouldn't this be `-UNUSED_PARAMETER`?\n"
     ]
    }
   ],
   "source": [
    "df['kotlin'] = analyze_preds('../data/JetBrains_kotlin_1000.csv')"
   ]
  },
  {
   "cell_type": "code",
   "execution_count": 8,
   "id": "b3a70e469063ec64",
   "metadata": {
    "collapsed": false
   },
   "outputs": [
    {
     "name": "stdout",
     "output_type": "stream",
     "text": [
      "-------------------\n",
      "@@ -1,6 +1,6 @@\n",
      " import { expectError, expectType } from 'tsd'\n",
      " import DefaultStore from '@uppy/store-default'\n",
      "-import Uppy, { UIPlugin } from '..'\n",
      "+import Uppy, { SuccessResponse, UIPlugin, UppyFile } from '..'\n",
      " import type { UploadedUppyFile, FailedUppyFile, PluginOptions } from '..'\n",
      "HF Pred: Why do we need to ex\n",
      "Fine Tuned Pred: What's the reason for this change?\n",
      "-------------------\n",
      "@@ -1076,6 +1076,7 @@ class Uppy {\n",
      "       const currentProgress = this.getFile(file.id).progress\n",
      "       this.setFileState(file.id, {\n",
      "         progress: Object.assign({}, currentProgress, {\n",
      "+          postprocess: this.postProcessors.length > 0,\n",
      "HF Pred: postprocess: this.postProcessors.length > 0,\n",
      "Fine Tuned Pred: Why don't we use `getPostProcessors` here as w\n",
      "-------------------\n",
      "@@ -681,6 +681,8 @@ module.exports = class Tus extends Plugin {\n",
      "     this.uppy.on('reset-progress', this.handleResetProgress)\n",
      " \n",
      "     if (this.opts.autoRetry) {\n",
      "+      this.uppy.log('[Tus] The `autoRetry` option may be removed in Uppy 2.0. See https://github.com/transloadit/uppy/pull/2347 for alternatives.', 'warning')\n",
      "HF Pred: this.log('[Tus] The `autoRetry` option may b\n",
      "Fine Tuned Pred: This link is broken right now.\n",
      "-------------------\n",
      "@@ -142,6 +142,7 @@ module.exports = class DragDrop extends Plugin {\n",
      "     const restrictions = this.uppy.opts.restrictions\n",
      "     return (\n",
      "       <input\n",
      "+        id={'uppy-input-' + this.id}\n",
      "HF Pred: const input\n",
      "Fine Tuned Pred: Does it matter that this is prefixed with `uppy-`?\n",
      "-------------------\n",
      "@@ -41,7 +41,7 @@ ar_SA.strings = {\n",
      "   encoding: 'التشفير...',\n",
      "   enterCorrectUrl: 'خطأ في الرابط: ارجو التأكد من ادخال رابط مباشر للملف',\n",
      "   enterUrlToImport: 'ادخل الرابط لاستيراد الملفات',\n",
      "-  exceedsSize: 'الملف اكبر من الحجم المسموح',\n",
      "+  exceedsSize: 'الملف اكبر من الحجم المسموح %{size}',\n",
      "HF Pred: e\n",
      "Fine Tuned Pred: Can you provide the reason for this change?\n"
     ]
    }
   ],
   "source": [
    "df['uppy'] = analyze_preds('../data/transloadit_uppy_1000.csv')"
   ]
  },
  {
   "attachments": {},
   "cell_type": "markdown",
   "id": "88786c13e63fb984",
   "metadata": {
    "collapsed": false
   },
   "source": [
    "As we can see, the fine-tuned model produces better predictions than the HF model. The predictions are much more insightful and detailed. The HF model tends to produce more generic predictions, while the fine-tuned model produces predictions that are more specific to the code.\n",
    "\n",
    "Only one thing is weird: the codereviewer model predictions are sometimes cut and not shown in full. This is not due to sentence limits, as the limit is pretty high (512 tokens). Unfortunately, it is up to the future work to figure out the reason behind this."
   ]
  },
  {
   "cell_type": "markdown",
   "id": "c86e2ae168dbf9a2",
   "metadata": {
    "collapsed": false
   },
   "source": [
    "## Quantitative Evaluation\n",
    "For each dataset, we calculate the [BLEU-4](https://en.wikipedia.org/wiki/BLEU) score for the predictions of the HF model and the fine-tuned model. The BLEU score is a measure of how similar the predictions are to the target. The higher the score, the better the predictions."
   ]
  },
  {
   "cell_type": "code",
   "execution_count": 9,
   "id": "860cd835ad7fc0c3",
   "metadata": {
    "collapsed": false
   },
   "outputs": [
    {
     "name": "stderr",
     "output_type": "stream",
     "text": [
      "Total: 10169\n",
      "Total: 10169\n"
     ]
    },
    {
     "name": "stdout",
     "output_type": "stream",
     "text": [
      "HF BLEU: 4.25\n",
      "Fine Tuned BLEU: 4.71\n"
     ]
    },
    {
     "data": {
      "text/plain": [
       "(4.25, 4.71)"
      ]
     },
     "execution_count": 9,
     "metadata": {},
     "output_type": "execute_result"
    }
   ],
   "source": [
    "calc_bleu_score('../data/msg-test')"
   ]
  },
  {
   "cell_type": "code",
   "execution_count": 10,
   "id": "baf7bf5989d87648",
   "metadata": {
    "collapsed": false
   },
   "outputs": [
    {
     "name": "stderr",
     "output_type": "stream",
     "text": [
      "Total: 1000\n",
      "Total: 1000\n"
     ]
    },
    {
     "name": "stdout",
     "output_type": "stream",
     "text": [
      "HF BLEU: 2.39\n",
      "Fine Tuned BLEU: 3.41\n"
     ]
    },
    {
     "data": {
      "text/plain": [
       "(2.39, 3.41)"
      ]
     },
     "execution_count": 10,
     "metadata": {},
     "output_type": "execute_result"
    }
   ],
   "source": [
    "calc_bleu_score('../data/microsoft_vscode_1000.csv')"
   ]
  },
  {
   "cell_type": "code",
   "execution_count": 11,
   "id": "cc3bea9368dc3041",
   "metadata": {
    "collapsed": false
   },
   "outputs": [
    {
     "name": "stderr",
     "output_type": "stream",
     "text": [
      "Total: 1000\n",
      "Total: 1000\n"
     ]
    },
    {
     "name": "stdout",
     "output_type": "stream",
     "text": [
      "HF BLEU: 2.71\n",
      "Fine Tuned BLEU: 3.91\n"
     ]
    },
    {
     "data": {
      "text/plain": [
       "(2.71, 3.91)"
      ]
     },
     "execution_count": 11,
     "metadata": {},
     "output_type": "execute_result"
    }
   ],
   "source": [
    "calc_bleu_score('../data/JetBrains_kotlin_1000.csv')"
   ]
  },
  {
   "cell_type": "code",
   "execution_count": 12,
   "id": "c2ed67a1d9adcf63",
   "metadata": {
    "collapsed": false
   },
   "outputs": [
    {
     "name": "stderr",
     "output_type": "stream",
     "text": [
      "Total: 1000\n",
      "Total: 1000\n"
     ]
    },
    {
     "name": "stdout",
     "output_type": "stream",
     "text": [
      "HF BLEU: 3.25\n",
      "Fine Tuned BLEU: 3.84\n"
     ]
    },
    {
     "data": {
      "text/plain": [
       "(3.25, 3.84)"
      ]
     },
     "execution_count": 12,
     "metadata": {},
     "output_type": "execute_result"
    }
   ],
   "source": [
    "calc_bleu_score('../data/transloadit_uppy_1000.csv')"
   ]
  },
  {
   "attachments": {},
   "cell_type": "markdown",
   "id": "b14a888443bebefe",
   "metadata": {
    "collapsed": false
   },
   "source": [
    "As we can see, the fine-tuned model performs better than the HF model on all datasets. Nevertheless, the score is still pretty low. This means as authors put it \"it is a hard task\".\n",
    "\n",
    "The semantic value of the predictions is also better, as we can see in the qualitative evaluation."
   ]
  }
 ],
 "metadata": {
  "kernelspec": {
   "display_name": "Python 3",
   "language": "python",
   "name": "python3"
  },
  "language_info": {
   "codemirror_mode": {
    "name": "ipython",
    "version": 3
   },
   "file_extension": ".py",
   "mimetype": "text/x-python",
   "name": "python",
   "nbconvert_exporter": "python",
   "pygments_lexer": "ipython3",
   "version": "3.8.16"
  }
 },
 "nbformat": 4,
 "nbformat_minor": 5
}
