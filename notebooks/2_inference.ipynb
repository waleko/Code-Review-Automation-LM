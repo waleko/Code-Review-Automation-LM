{
 "cells": [
  {
   "cell_type": "markdown",
   "source": [
    "# CodeReviewer Model Inference\n",
    "\n",
    "Let's generate code reviews using `microsoft/codereviewer` model {cite}`li2022codereviewer`."
   ],
   "metadata": {
    "collapsed": false
   },
   "id": "b65e7acd52a4668e"
  },
  {
   "cell_type": "code",
   "execution_count": null,
   "id": "initial_id",
   "metadata": {
    "collapsed": true
   },
   "outputs": [],
   "source": [
    "from pathlib import Path\n",
    "\n",
    "import numpy as np\n",
    "import pandas as pd\n",
    "import torch\n",
    "from torch.utils.data import Dataset, DataLoader\n",
    "from tqdm.autonotebook import tqdm\n",
    "from transformers import AutoTokenizer, AutoModelForSeq2SeqLM\n",
    "\n",
    "import utils"
   ]
  },
  {
   "cell_type": "markdown",
   "source": [
    "## 1 Tokenizers and Datasets\n",
    "\n",
    "P.S. Incredible thanks to the authors of {cite}`p4vv37_codebert_2023` for providing the code for working with the tokenizer and the dataset. "
   ],
   "metadata": {
    "collapsed": false
   },
   "id": "4a4776ea7be212fc"
  },
  {
   "cell_type": "code",
   "execution_count": null,
   "outputs": [],
   "source": [
    "filename = \"../data/msg-test.csv\""
   ],
   "metadata": {
    "collapsed": false
   },
   "id": "cce0ce4281d436df"
  },
  {
   "cell_type": "code",
   "execution_count": null,
   "outputs": [],
   "source": [
    "df = pd.read_csv(filename)\n",
    "df['msg'].fillna('', inplace=True)\n",
    "df['src_file'].fillna('', inplace=True)\n",
    "df.head()"
   ],
   "metadata": {
    "collapsed": false
   },
   "id": "593e84ddf70822c"
  },
  {
   "cell_type": "code",
   "execution_count": null,
   "outputs": [],
   "source": [
    "# download tokenizer from huggingface\n",
    "tokenizer = AutoTokenizer.from_pretrained(\"microsoft/codereviewer\")\n",
    "\n",
    "# add required special tokens to the tokenizer\n",
    "tokenizer = utils.process_tokenizer(tokenizer)"
   ],
   "metadata": {
    "collapsed": false
   },
   "id": "ad4d16d13804be69"
  },
  {
   "cell_type": "code",
   "execution_count": null,
   "outputs": [],
   "source": [
    "class ReviewsDataset(Dataset):\n",
    "    def __init__(self, df: pd.DataFrame, tokenizer):\n",
    "        self.y = df[\"human_review\"]\n",
    "        self.code = df[\"diff_hunk\"]\n",
    "        self.x = torch.tensor(df.apply(lambda row: utils.encode_diff(tokenizer, row[\"diff_hunk\"], '', ''), axis=1), dtype=torch.long).cpu()\n",
    " \n",
    "    def __len__(self):\n",
    "        return len(self.y)\n",
    "   \n",
    "    def __getitem__(self,idx):\n",
    "        return self.x[idx], self.y[idx]"
   ],
   "metadata": {
    "collapsed": false
   },
   "id": "cb003d6d8f578da1"
  },
  {
   "cell_type": "markdown",
   "source": [
    "## 2 Load data\n",
    "Here we load the data and create a dataloader for each project."
   ],
   "metadata": {
    "collapsed": false
   },
   "id": "b01969568fe53c90"
  },
  {
   "cell_type": "code",
   "execution_count": null,
   "outputs": [],
   "source": [
    "filenames = ['../data/msg-test.csv', 'JetBrains_kotlin_1000.csv', 'microsoft_vscode_1000.csv', 'transloadit_uppy_1000.csv']\n",
    "\n",
    "datasets = []\n",
    "dataloaders = []\n",
    "for filename in filenames:\n",
    "    df = pd.read_csv(filename)\n",
    "    dataset = ReviewsDataset(df, tokenizer)\n",
    "    datasets.append(dataset)\n",
    "    dataloader = DataLoader(dataset, batch_size=4, shuffle=False) # batch_size=6 for 8GB GPU\n",
    "    dataloaders.append(dataloader)"
   ],
   "metadata": {
    "collapsed": false
   },
   "id": "d06f51b2150c61c4"
  },
  {
   "cell_type": "markdown",
   "source": [
    "## 3 Predict\n",
    "\n",
    "Now we can generate code reviews for each project. We will use two models:\n",
    "- Pre-trained model from HuggingFace provided by the authors of {cite}`li2022codereviewer`\n",
    "- Fine-tuned model on the CodeReviewer dataset"
   ],
   "metadata": {
    "collapsed": false
   },
   "id": "1381eaca0f99dfc"
  },
  {
   "cell_type": "markdown",
   "source": [
    "### Predict function"
   ],
   "metadata": {
    "collapsed": false
   },
   "id": "ef4c3e665f4be306"
  },
  {
   "cell_type": "code",
   "execution_count": null,
   "outputs": [],
   "source": [
    "def predict(model, dataloader, device='cuda'):\n",
    "    model = model.to(device)\n",
    "    model.eval()\n",
    "    \n",
    "    result = []\n",
    "    \n",
    "    for X, y in tqdm(dataloader):\n",
    "        inputs_mask = X.ne(tokenizer.pad_id)\n",
    "        preds = model.generate(\n",
    "            X.to(device),\n",
    "            attention_mask=inputs_mask.to(device),\n",
    "            use_cache=True,\n",
    "            num_beams=5,\n",
    "            early_stopping=True,\n",
    "            max_length=512,\n",
    "            num_return_sequences=1,\n",
    "        )\n",
    "        preds_np = preds.detach().cpu().numpy()\n",
    "        preds_decoded = np.apply_along_axis(lambda row: tokenizer.decode(\n",
    "            row[2:], skip_special_tokens=True, clean_up_tokenization_spaces=False\n",
    "        ), 1, preds_np)\n",
    "        result += list(preds_decoded)\n",
    "    return result"
   ],
   "metadata": {
    "collapsed": false
   },
   "id": "7a5b97449733bbc6"
  },
  {
   "cell_type": "markdown",
   "source": [
    "### HuggingFace pre-trained checkpoint\n",
    "\n",
    "The model is available on the HuggingFace model hub: https://huggingface.co/microsoft/codereviewer"
   ],
   "metadata": {
    "collapsed": false
   },
   "id": "d84900c15fa4ffc3"
  },
  {
   "cell_type": "code",
   "execution_count": null,
   "outputs": [],
   "source": [
    "# download the pretrained model from huggingface\n",
    "hf_model = AutoModelForSeq2SeqLM.from_pretrained(\"microsoft/codereviewer\")\n",
    "\n",
    "for filename, dataset, dataloader in zip(filenames, datasets, dataloaders):\n",
    "    preds = predict(hf_model, dataloader)\n",
    "    df_pred = pd.DataFrame({'code': dataset.code, 'target': dataset.y, 'prediction': preds})\n",
    "    df_pred.to_csv(Path(filename).with_suffix('.hf_pred.csv'))\n",
    "    df_pred.head()"
   ],
   "metadata": {
    "collapsed": false
   },
   "id": "c508661efcdcad40"
  },
  {
   "cell_type": "markdown",
   "source": [
    "### Fine-tuned CodeReviewer\n",
    "\n",
    "I fine-tuned the model on the CodeReviewer dataset on the `msg` task using the [instructions](https://github.com/microsoft/CodeBERT/tree/master/CodeReviewer#3-finetuneinference) from the authors of {cite}`li2022codereviewer`.\n",
    "\n",
    "For the fine-tuning I used the following parameters:\n",
    "- `batch_size=6`\n",
    "- `learning_rate=3e-4`\n",
    "- `max_source_length=512`\n",
    "\n",
    "The execution took about 12 hours on a single NVIDIA GeForce A100 GPU. The model was fine-tuned for 3 epochs.\n",
    "\n",
    "I have made the checkpoint available on the HuggingFace model hub: https://huggingface.co/waleko/codereviewer-finetuned-msg"
   ],
   "metadata": {
    "collapsed": false
   },
   "id": "e8e932357e193796"
  },
  {
   "cell_type": "code",
   "execution_count": null,
   "outputs": [],
   "source": [
    "# download the fine-tuned model\n",
    "ft_model = AutoModelForSeq2SeqLM.from_pretrained(\"waleko/codereviewer-finetuned-msg\")\n",
    "\n",
    "for filename, dataset, dataloader in zip(filenames, datasets, dataloaders):\n",
    "    preds = predict(ft_model, dataloader)\n",
    "    df_pred = pd.DataFrame({'code': dataset.code, 'target': dataset.y, 'prediction': preds})\n",
    "    df_pred.to_csv(Path(filename).with_suffix('.finetuned_pred.csv'))\n",
    "    df_pred.head()"
   ],
   "metadata": {
    "collapsed": false
   },
   "id": "851255e54c49484a"
  }
 ],
 "metadata": {
  "kernelspec": {
   "display_name": "Python 3",
   "language": "python",
   "name": "python3"
  },
  "language_info": {
   "codemirror_mode": {
    "name": "ipython",
    "version": 2
   },
   "file_extension": ".py",
   "mimetype": "text/x-python",
   "name": "python",
   "nbconvert_exporter": "python",
   "pygments_lexer": "ipython2",
   "version": "2.7.6"
  }
 },
 "nbformat": 4,
 "nbformat_minor": 5
}
